{
 "cells": [
  {
   "cell_type": "markdown",
   "metadata": {},
   "source": [
    "Langevin Equation"
   ]
  },
  {
   "cell_type": "markdown",
   "metadata": {},
   "source": [
    "$d\\theta(t) = -\\frac{1}{2}\\nabla U(\\theta(t))dt + dB_t$"
   ]
  },
  {
   "cell_type": "markdown",
   "metadata": {},
   "source": [
    "In this equation the first term represents a driving force(as i understood it) and the second term is the noise(brownian motion) associated with it"
   ]
  },
  {
   "cell_type": "markdown",
   "metadata": {},
   "source": [
    "$\\theta(t+h) \\approx \\theta(t) -\\frac{h}{2}\\nabla U(\\theta(t)) + h\\sqrt{Z}$"
   ]
  },
  {
   "cell_type": "markdown",
   "metadata": {},
   "source": [
    "This equation shows a kind of gradient descent. But we can also interpret is as a sampling technique which can be used to generate samples similar to markov chain technique."
   ]
  },
  {
   "cell_type": "markdown",
   "metadata": {},
   "source": [
    "As i understood it ULA approximates based on euler approximation and forms a markov chain. MALA has an addition Accept-Reject step."
   ]
  },
  {
   "cell_type": "markdown",
   "metadata": {},
   "source": [
    "SGLD avoids calculating $\\nabla U(\\theta)$ everytime instead it estimates it using a smaller sample size in each iteration. For eg. if N is size of the entire sample space SGLD chooses a $ n<<N $ and estimates $\\hat{\\nabla}U(\\theta)^n$ for each iteration"
   ]
  },
  {
   "cell_type": "markdown",
   "metadata": {},
   "source": [
    "Now the author talks about reducing the variance of the estimator as splitting it into two terms out of which the first term will be a known sum and if $u_i(\\theta) \\approx \\nabla U(\\theta)$ then the estimator will have very less variance"
   ]
  },
  {
   "cell_type": "markdown",
   "metadata": {},
   "source": [
    "$\\displaystyle\\sum_{i=1}^N\\nabla U_i(\\theta) = \\displaystyle\\sum_{i=1}^Nu_i(\\theta) + \\displaystyle\\sum_{i=1}^N\\left(\\nabla U_i(\\theta) - u_i(\\theta)\\right)$"
   ]
  },
  {
   "cell_type": "markdown",
   "metadata": {},
   "source": [
    "Another way to make it more efficient is to substitute the initial $\\theta_0$ with $\\hat{\\theta}$ to reduce the burn in phase of the algorithm"
   ]
  },
  {
   "cell_type": "code",
   "execution_count": null,
   "metadata": {},
   "outputs": [],
   "source": []
  }
 ],
 "metadata": {
  "kernelspec": {
   "display_name": "Julia 1.7.2",
   "language": "julia",
   "name": "julia-1.7"
  },
  "language_info": {
   "file_extension": ".jl",
   "mimetype": "application/julia",
   "name": "julia",
   "version": "1.7.2"
  }
 },
 "nbformat": 4,
 "nbformat_minor": 4
}
